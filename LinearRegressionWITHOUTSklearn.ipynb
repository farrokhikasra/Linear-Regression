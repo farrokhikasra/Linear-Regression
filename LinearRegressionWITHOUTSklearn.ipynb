{
 "cells": [
  {
   "cell_type": "code",
   "execution_count": 1,
   "metadata": {},
   "outputs": [],
   "source": [
    "import numpy as np\n",
    "from numpy import random\n",
    "from sklearn import datasets\n",
    "from sklearn.metrics import mean_squared_error"
   ]
  },
  {
   "cell_type": "code",
   "execution_count": 2,
   "metadata": {},
   "outputs": [],
   "source": [
    "diabetes_x, diabetes_y = datasets.load_diabetes(return_X_y=True)\n",
    "\n",
    "train_x = diabetes_x[:-20]\n",
    "train_y = diabetes_y[:-20]\n",
    "test_x = diabetes_x[-20:]\n",
    "test_y = diabetes_y[-20:]"
   ]
  },
  {
   "cell_type": "code",
   "execution_count": 3,
   "metadata": {},
   "outputs": [],
   "source": [
    "coef_intercept = random.rand(11)\n",
    "coef_intercept = np.array(coef_intercept) * 5\n",
    "ones_column = np.ones((train_x.shape[0],1))\n",
    "train_x = np.hstack((train_x, ones_column))"
   ]
  },
  {
   "cell_type": "code",
   "execution_count": 4,
   "metadata": {},
   "outputs": [],
   "source": [
    "n = 10000 #Range of the loop\n",
    "alpha = 0.001 #Steps\n",
    "for i in range(n):\n",
    "    trans = np.transpose(train_x) # Transpose of Train_x\n",
    "    XmulCoef = np.matmul(train_x, coef_intercept) #train_x * coef\n",
    "    xtxcoef = np.matmul(trans, XmulCoef) #transpose(train_x) * train_x * coef\n",
    "    xty = np.matmul(trans, train_y) #transpose(train_x) * train_y\n",
    "    gradient = xtxcoef - xty\n",
    "    coef_intercept -= np.array(gradient) * alpha \n",
    "    \n",
    "    "
   ]
  },
  {
   "cell_type": "code",
   "execution_count": 5,
   "metadata": {},
   "outputs": [],
   "source": [
    "ones_column = np.ones((test_x.shape[0],1))\n",
    "test_x = np.hstack((test_x, ones_column))\n",
    "test_y_predict = np.matmul(test_x, coef_intercept)"
   ]
  },
  {
   "cell_type": "code",
   "execution_count": 6,
   "metadata": {},
   "outputs": [
    {
     "name": "stdout",
     "output_type": "stream",
     "text": [
      "The Coef is:\n",
      "[   4.2007888  -234.62571553  521.03044419  325.869602   -101.43005996\n",
      "  -84.3889045  -203.20965961  115.90515044  469.30453458]\n",
      "The Intercept is:\n",
      "152.72406042409997\n",
      "A prediction of test data:\n",
      "[197.56873554 150.42144374 169.00496773 107.7813651  162.46284881\n",
      " 132.49641613 260.79668975 100.56571569 114.79789326 121.29094819\n",
      " 218.48264236  61.36323796 135.6696969  121.33016876  54.26337068\n",
      " 192.2570333  103.64917061 126.33957374 208.54168756  45.95120605]\n",
      "Mean squared error for this regression solution is:\n",
      "1993.9966163938636\n"
     ]
    }
   ],
   "source": [
    "print(\"The Coef is:\")\n",
    "print(coef_intercept[0:9])\n",
    "print(\"The Intercept is:\")\n",
    "print(coef_intercept[10])\n",
    "print(\"A prediction of test data:\")\n",
    "print(test_y_predict)\n",
    "print(\"Mean squared error for this regression solution is:\")\n",
    "print(mean_squared_error(test_y_predict, test_y))"
   ]
  },
  {
   "cell_type": "code",
   "execution_count": null,
   "metadata": {},
   "outputs": [],
   "source": []
  }
 ],
 "metadata": {
  "kernelspec": {
   "display_name": "Python 3",
   "language": "python",
   "name": "python3"
  },
  "language_info": {
   "codemirror_mode": {
    "name": "ipython",
    "version": 3
   },
   "file_extension": ".py",
   "mimetype": "text/x-python",
   "name": "python",
   "nbconvert_exporter": "python",
   "pygments_lexer": "ipython3",
   "version": "3.7.6"
  }
 },
 "nbformat": 4,
 "nbformat_minor": 4
}
